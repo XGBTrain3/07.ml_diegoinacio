{
 "cells": [
  {
   "cell_type": "markdown",
   "metadata": {},
   "source": [
    "# F2PY basics\n",
    "---\n",
    "- Author: Diego Inácio\n",
    "- GitHub: [github.com/diegoinacio](https://github.com/diegoinacio)\n",
    "- Notebook: [_basics_F2PY.ipynb](https://github.com/diegoinacio/machine-learning-notebooks/blob/master/High-Performance-Computing/_basics_F2PY.ipynb)\n",
    "- Spec: **CPU** i7-9750H 2.6 GHz **GPU** GeForce RTX 2060\n",
    "---\n",
    "High performance on *Python* and *NumPy* using [F2PY](https://numpy.org/devdocs/f2py/index.html)."
   ]
  },
  {
   "cell_type": "code",
   "execution_count": 6,
   "metadata": {},
   "outputs": [],
   "source": [
    "import numpy as np"
   ]
  },
  {
   "cell_type": "markdown",
   "metadata": {},
   "source": [
    "# 0. Installation\n",
    "---\n",
    "\n",
    "F2PY is a native *Fortran* to *Python* interface generator from [NumPy](https://numpy.org/). Thus, the [Installation](https://numpy.org/devdocs/user/install.html) command for *anaconda* and *pip*:\n",
    "\n",
    "```\n",
    "$ conda install numpy\n",
    "```\n",
    "\n",
    "or\n",
    "\n",
    "```\n",
    "$ pip install numpy\n",
    "```"
   ]
  }
 ],
 "metadata": {
  "kernelspec": {
   "display_name": "Python 3",
   "language": "python",
   "name": "python3"
  },
  "language_info": {
   "codemirror_mode": {
    "name": "ipython",
    "version": 3
   },
   "file_extension": ".py",
   "mimetype": "text/x-python",
   "name": "python",
   "nbconvert_exporter": "python",
   "pygments_lexer": "ipython3",
   "version": "3.7.4"
  }
 },
 "nbformat": 4,
 "nbformat_minor": 2
}
