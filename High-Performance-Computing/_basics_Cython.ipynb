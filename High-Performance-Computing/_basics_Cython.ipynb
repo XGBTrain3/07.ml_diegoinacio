{
 "cells": [
  {
   "cell_type": "markdown",
   "metadata": {},
   "source": [
    "# Cython basics\n",
    "---\n",
    "- Author: Diego Inácio\n",
    "- GitHub: [github.com/diegoinacio](https://github.com/diegoinacio)\n",
    "- Notebook: [_basics_Cython.ipynb](https://github.com/diegoinacio/machine-learning-notebooks/blob/master/High-Performance-Computing/_basics_Cython.ipynb)\n",
    "- Spec: **CPU** i7-9750H 2.6 GHz **GPU** GeForce RTX 2060\n",
    "---\n",
    "High performance on *Python* using [Cython](https://cython.org/)."
   ]
  },
  {
   "cell_type": "markdown",
   "metadata": {},
   "source": [
    "# 0. Installation\n",
    "---\n",
    "\n",
    "[Installation](http://docs.cython.org/en/latest/src/quickstart/install.html) command for *anaconda* and *pip*:\n",
    "\n",
    "```\n",
    "$ conda install -c anaconda cython\n",
    "```\n",
    "\n",
    "or\n",
    "\n",
    "```\n",
    "$ pip install Cython\n",
    "```"
   ]
  },
  {
   "cell_type": "code",
   "execution_count": 5,
   "metadata": {},
   "outputs": [],
   "source": [
    "import cython"
   ]
  }
 ],
 "metadata": {
  "kernelspec": {
   "display_name": "Python 3",
   "language": "python",
   "name": "python3"
  },
  "language_info": {
   "codemirror_mode": {
    "name": "ipython",
    "version": 3
   },
   "file_extension": ".py",
   "mimetype": "text/x-python",
   "name": "python",
   "nbconvert_exporter": "python",
   "pygments_lexer": "ipython3",
   "version": "3.7.4"
  }
 },
 "nbformat": 4,
 "nbformat_minor": 2
}
