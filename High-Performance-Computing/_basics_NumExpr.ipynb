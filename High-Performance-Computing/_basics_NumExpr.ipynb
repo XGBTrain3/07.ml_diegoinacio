{
 "cells": [
  {
   "cell_type": "markdown",
   "metadata": {},
   "source": [
    "# NumExpr basics\n",
    "---\n",
    "- Author: Diego Inácio\n",
    "- GitHub: [github.com/diegoinacio](https://github.com/diegoinacio)\n",
    "- Notebook: [_basics_NumExpr.ipynb](https://github.com/diegoinacio/machine-learning-notebooks/blob/master/High-Performance-Computing/_basics_NumExpr.ipynb)\n",
    "- Spec: **CPU** i7-9750H 2.6 GHz **GPU** GeForce RTX 2060\n",
    "---\n",
    "High performance on *Python* and *NumPy* using [NumExpr](https://numexpr.readthedocs.io/)."
   ]
  },
  {
   "cell_type": "code",
   "execution_count": 1,
   "metadata": {},
   "outputs": [],
   "source": [
    "import numpy as np"
   ]
  },
  {
   "cell_type": "markdown",
   "metadata": {},
   "source": [
    "# 0. Installation\n",
    "---\n",
    "\n",
    "Installation command for *anaconda* and *pip*:\n",
    "\n",
    "```\n",
    "$ conda install -c anaconda numexpr\n",
    "```\n",
    "\n",
    "or\n",
    "\n",
    "```\n",
    "$ pip install numexpr\n",
    "```"
   ]
  },
  {
   "cell_type": "code",
   "execution_count": 2,
   "metadata": {},
   "outputs": [],
   "source": [
    "import numexpr"
   ]
  }
 ],
 "metadata": {
  "kernelspec": {
   "display_name": "Python 3",
   "language": "python",
   "name": "python3"
  },
  "language_info": {
   "codemirror_mode": {
    "name": "ipython",
    "version": 3
   },
   "file_extension": ".py",
   "mimetype": "text/x-python",
   "name": "python",
   "nbconvert_exporter": "python",
   "pygments_lexer": "ipython3",
   "version": "3.7.4"
  }
 },
 "nbformat": 4,
 "nbformat_minor": 2
}
