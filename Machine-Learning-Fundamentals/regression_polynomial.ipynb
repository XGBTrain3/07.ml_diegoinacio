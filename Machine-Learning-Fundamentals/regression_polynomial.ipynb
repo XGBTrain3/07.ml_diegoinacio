{
 "cells": [
  {
   "cell_type": "markdown",
   "metadata": {},
   "source": [
    "# Polynomial Regression\n",
    "---\n",
    "- Author: Diego Inácio\n",
    "- GitHub: [github.com/diegoinacio](https://github.com/diegoinacio)\n",
    "- Notebook: [regression_polynomial.ipynb](https://github.com/diegoinacio/machine-learning-notebooks/blob/master/Machine-Learning-Fundamentals/regression_polynomial.ipynb)"
   ]
  },
  {
   "cell_type": "code",
   "execution_count": 1,
   "metadata": {},
   "outputs": [],
   "source": [
    "%matplotlib inline\n",
    "import matplotlib\n",
    "import matplotlib.pyplot as plt\n",
    "import numpy as np\n",
    "\n",
    "from regression__utils import *"
   ]
  },
  {
   "cell_type": "code",
   "execution_count": 2,
   "metadata": {},
   "outputs": [],
   "source": [
    "# Synthetic data 6\n",
    "x, y = synthData6()\n",
    "\n",
    "# Predicting with Linear Regression\n",
    "# lrs = linearRegression_simple()\n",
    "# lrs.fit(x, y)"
   ]
  },
  {
   "cell_type": "markdown",
   "metadata": {},
   "source": [
    "![polynomial data and linear regression](output/regression_polynomial_linear.png \"Polynomial data and Linear Regression\")"
   ]
  },
  {
   "cell_type": "markdown",
   "metadata": {},
   "source": [
    "## Algorithm\n",
    "---"
   ]
  },
  {
   "cell_type": "code",
   "execution_count": 3,
   "metadata": {},
   "outputs": [],
   "source": [
    "def arraycast(f):\n",
    "    '''\n",
    "    Decorador para conversão de vetores e matrizes\n",
    "    '''\n",
    "    def wrap(self, X, y=[]):\n",
    "        X = np.array(X)\n",
    "        if list(y):\n",
    "            y = np.array(y)\n",
    "            return f(self, X, y)\n",
    "        return f(self, X)\n",
    "    return wrap\n",
    "\n",
    "class polynomialRegression(object):\n",
    "    def __init__(self, degree=1):\n",
    "        self._degree = degree\n",
    "        self._beta = None\n",
    "    @property\n",
    "    def beta(self):\n",
    "        return self._beta\n",
    "    @arraycast\n",
    "    def fit(self, X, y=[]):\n",
    "        V = np.stack([X**i for i in range(self._degree + 1)], axis=0).T\n",
    "        VTV = np.dot(V.T, V)\n",
    "        VTV_i = np.linalg.inv(VTV)\n",
    "        Vi = np.dot(VTV_i, V.T)\n",
    "        self._beta = np.dot(Vi, y)\n",
    "    @arraycast\n",
    "    def pred(self, x):\n",
    "        V = np.stack([x**i for i in range(self._degree + 1)], axis=0).T\n",
    "        return np.dot(V, self._beta)"
   ]
  },
  {
   "cell_type": "code",
   "execution_count": 4,
   "metadata": {},
   "outputs": [
    {
     "name": "stdout",
     "output_type": "stream",
     "text": [
      "Wall time: 7.99 ms\n"
     ]
    }
   ],
   "source": [
    "%%time\n",
    "polreg = polynomialRegression(3)\n",
    "polreg.fit(x, y=y)"
   ]
  },
  {
   "cell_type": "markdown",
   "metadata": {},
   "source": [
    "![polynomial regression](output/regression_polynomial_pred.png \"Polynomial Regression\")"
   ]
  }
 ],
 "metadata": {
  "kernelspec": {
   "display_name": "Python 3",
   "language": "python",
   "name": "python3"
  },
  "language_info": {
   "codemirror_mode": {
    "name": "ipython",
    "version": 3
   },
   "file_extension": ".py",
   "mimetype": "text/x-python",
   "name": "python",
   "nbconvert_exporter": "python",
   "pygments_lexer": "ipython3",
   "version": "3.7.3"
  }
 },
 "nbformat": 4,
 "nbformat_minor": 2
}
